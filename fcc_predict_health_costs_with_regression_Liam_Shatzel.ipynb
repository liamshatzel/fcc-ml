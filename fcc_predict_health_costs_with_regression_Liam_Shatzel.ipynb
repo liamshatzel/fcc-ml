{
  "nbformat": 4,
  "nbformat_minor": 0,
  "metadata": {
    "colab": {
      "name": "fcc_predict_health_costs_with_regression-Liam Shatzel.ipynb",
      "provenance": [],
      "collapsed_sections": [],
      "include_colab_link": true
    },
    "kernelspec": {
      "display_name": "Python 3",
      "name": "python3"
    },
    "accelerator": "GPU"
  },
  "cells": [
    {
      "cell_type": "markdown",
      "metadata": {
        "id": "view-in-github",
        "colab_type": "text"
      },
      "source": [
        "<a href=\"https://colab.research.google.com/github/liamshatzel/fcc-ml/blob/main/fcc_predict_health_costs_with_regression_Liam_Shatzel.ipynb\" target=\"_parent\"><img src=\"https://colab.research.google.com/assets/colab-badge.svg\" alt=\"Open In Colab\"/></a>"
      ]
    },
    {
      "cell_type": "markdown",
      "metadata": {
        "id": "M9TX15KOkPBV"
      },
      "source": [
        "*Note: You are currently reading this using Google Colaboratory which is a cloud-hosted version of Jupyter Notebook. This is a document containing both text cells for documentation and runnable code cells. If you are unfamiliar with Jupyter Notebook, watch this 3-minute introduction before starting this challenge: https://www.youtube.com/watch?v=inN8seMm7UI*\n",
        "\n",
        "---\n",
        "\n",
        "In this challenge, you will predict healthcare costs using a regression algorithm.\n",
        "\n",
        "You are given a dataset that contains information about different people including their healthcare costs. Use the data to predict healthcare costs based on new data.\n",
        "\n",
        "The first two cells of this notebook import libraries and the data.\n",
        "\n",
        "Make sure to convert categorical data to numbers. Use 80% of the data as the `train_dataset` and 20% of the data as the `test_dataset`.\n",
        "\n",
        "`pop` off the \"expenses\" column from these datasets to create new datasets called `train_labels` and `test_labels`. Use these labels when training your model.\n",
        "\n",
        "Create a model and train it with the `train_dataset`. Run the final cell in this notebook to check your model. The final cell will use the unseen `test_dataset` to check how well the model generalizes.\n",
        "\n",
        "To pass the challenge, `model.evaluate` must return a Mean Absolute Error of under 3500. This means it predicts health care costs correctly within $3500.\n",
        "\n",
        "The final cell will also predict expenses using the `test_dataset` and graph the results."
      ]
    },
    {
      "cell_type": "code",
      "metadata": {
        "id": "1rRo8oNqZ-Rj",
        "colab": {
          "base_uri": "https://localhost:8080/"
        },
        "outputId": "4acd5156-ccde-4576-ae46-afefbaa0732d"
      },
      "source": [
        "# Import libraries. You may or may not use all of these.\n",
        "!pip install -q git+https://github.com/tensorflow/docs\n",
        "import matplotlib.pyplot as plt\n",
        "import numpy as np\n",
        "import pandas as pd\n",
        "\n",
        "try:\n",
        "  # %tensorflow_version only exists in Colab.\n",
        "  %tensorflow_version 2.x\n",
        "except Exception:\n",
        "  pass\n",
        "import tensorflow as tf\n",
        "\n",
        "from tensorflow import keras\n",
        "from tensorflow.keras import layers\n",
        "\n",
        "import tensorflow_docs as tfdocs\n",
        "import tensorflow_docs.plots\n",
        "import tensorflow_docs.modeling"
      ],
      "execution_count": 2,
      "outputs": [
        {
          "output_type": "stream",
          "text": [
            "  Building wheel for tensorflow-docs (setup.py) ... \u001b[?25l\u001b[?25hdone\n",
            "\u001b[33m  WARNING: Built wheel for tensorflow-docs is invalid: Metadata 1.2 mandates PEP 440 version, but '0.0.0c60db3aa06bcd8030c684949373997ef2f03cdf8-' is not\u001b[0m\n",
            "    Running setup.py install for tensorflow-docs ... \u001b[?25l\u001b[?25hdone\n",
            "\u001b[33m  DEPRECATION: tensorflow-docs was installed using the legacy 'setup.py install' method, because a wheel could not be built for it. A possible replacement is to fix the wheel build issue reported above. You can find discussion regarding this at https://github.com/pypa/pip/issues/8368.\u001b[0m\n"
          ],
          "name": "stdout"
        }
      ]
    },
    {
      "cell_type": "code",
      "metadata": {
        "id": "CiX2FI4gZtTt",
        "colab": {
          "base_uri": "https://localhost:8080/",
          "height": 391
        },
        "outputId": "ddf95121-7c4c-4010-880e-1c31ecde569a"
      },
      "source": [
        "# Import data\n",
        "!wget https://cdn.freecodecamp.org/project-data/health-costs/insurance.csv\n",
        "dataset = pd.read_csv('insurance.csv')\n",
        "dataset.tail()"
      ],
      "execution_count": 10,
      "outputs": [
        {
          "output_type": "stream",
          "text": [
            "--2021-07-25 22:29:08--  https://cdn.freecodecamp.org/project-data/health-costs/insurance.csv\n",
            "Resolving cdn.freecodecamp.org (cdn.freecodecamp.org)... 104.26.2.33, 104.26.3.33, 172.67.70.149, ...\n",
            "Connecting to cdn.freecodecamp.org (cdn.freecodecamp.org)|104.26.2.33|:443... connected.\n",
            "HTTP request sent, awaiting response... 200 OK\n",
            "Length: 50264 (49K) [text/csv]\n",
            "Saving to: ‘insurance.csv.2’\n",
            "\n",
            "\rinsurance.csv.2       0%[                    ]       0  --.-KB/s               \rinsurance.csv.2     100%[===================>]  49.09K  --.-KB/s    in 0.007s  \n",
            "\n",
            "2021-07-25 22:29:08 (6.49 MB/s) - ‘insurance.csv.2’ saved [50264/50264]\n",
            "\n"
          ],
          "name": "stdout"
        },
        {
          "output_type": "execute_result",
          "data": {
            "text/html": [
              "<div>\n",
              "<style scoped>\n",
              "    .dataframe tbody tr th:only-of-type {\n",
              "        vertical-align: middle;\n",
              "    }\n",
              "\n",
              "    .dataframe tbody tr th {\n",
              "        vertical-align: top;\n",
              "    }\n",
              "\n",
              "    .dataframe thead th {\n",
              "        text-align: right;\n",
              "    }\n",
              "</style>\n",
              "<table border=\"1\" class=\"dataframe\">\n",
              "  <thead>\n",
              "    <tr style=\"text-align: right;\">\n",
              "      <th></th>\n",
              "      <th>age</th>\n",
              "      <th>sex</th>\n",
              "      <th>bmi</th>\n",
              "      <th>children</th>\n",
              "      <th>smoker</th>\n",
              "      <th>region</th>\n",
              "      <th>expenses</th>\n",
              "    </tr>\n",
              "  </thead>\n",
              "  <tbody>\n",
              "    <tr>\n",
              "      <th>1333</th>\n",
              "      <td>50</td>\n",
              "      <td>male</td>\n",
              "      <td>31.0</td>\n",
              "      <td>3</td>\n",
              "      <td>no</td>\n",
              "      <td>northwest</td>\n",
              "      <td>10600.55</td>\n",
              "    </tr>\n",
              "    <tr>\n",
              "      <th>1334</th>\n",
              "      <td>18</td>\n",
              "      <td>female</td>\n",
              "      <td>31.9</td>\n",
              "      <td>0</td>\n",
              "      <td>no</td>\n",
              "      <td>northeast</td>\n",
              "      <td>2205.98</td>\n",
              "    </tr>\n",
              "    <tr>\n",
              "      <th>1335</th>\n",
              "      <td>18</td>\n",
              "      <td>female</td>\n",
              "      <td>36.9</td>\n",
              "      <td>0</td>\n",
              "      <td>no</td>\n",
              "      <td>southeast</td>\n",
              "      <td>1629.83</td>\n",
              "    </tr>\n",
              "    <tr>\n",
              "      <th>1336</th>\n",
              "      <td>21</td>\n",
              "      <td>female</td>\n",
              "      <td>25.8</td>\n",
              "      <td>0</td>\n",
              "      <td>no</td>\n",
              "      <td>southwest</td>\n",
              "      <td>2007.95</td>\n",
              "    </tr>\n",
              "    <tr>\n",
              "      <th>1337</th>\n",
              "      <td>61</td>\n",
              "      <td>female</td>\n",
              "      <td>29.1</td>\n",
              "      <td>0</td>\n",
              "      <td>yes</td>\n",
              "      <td>northwest</td>\n",
              "      <td>29141.36</td>\n",
              "    </tr>\n",
              "  </tbody>\n",
              "</table>\n",
              "</div>"
            ],
            "text/plain": [
              "      age     sex   bmi  children smoker     region  expenses\n",
              "1333   50    male  31.0         3     no  northwest  10600.55\n",
              "1334   18  female  31.9         0     no  northeast   2205.98\n",
              "1335   18  female  36.9         0     no  southeast   1629.83\n",
              "1336   21  female  25.8         0     no  southwest   2007.95\n",
              "1337   61  female  29.1         0    yes  northwest  29141.36"
            ]
          },
          "metadata": {
            "tags": []
          },
          "execution_count": 10
        }
      ]
    },
    {
      "cell_type": "code",
      "metadata": {
        "colab": {
          "base_uri": "https://localhost:8080/"
        },
        "id": "ORdEetTQqlOD",
        "outputId": "9680160d-dd7e-4fae-c184-4ef1fbb06d1c"
      },
      "source": [
        "dataset.region.unique()"
      ],
      "execution_count": 11,
      "outputs": [
        {
          "output_type": "execute_result",
          "data": {
            "text/plain": [
              "array(['southwest', 'southeast', 'northwest', 'northeast'], dtype=object)"
            ]
          },
          "metadata": {
            "tags": []
          },
          "execution_count": 11
        }
      ]
    },
    {
      "cell_type": "code",
      "metadata": {
        "colab": {
          "base_uri": "https://localhost:8080/",
          "height": 204
        },
        "id": "GYRTfqbfoSef",
        "outputId": "1e7a8b11-a371-47ad-a6a2-ba9814a4b410"
      },
      "source": [
        "dataset['sex'] = dataset['sex'].map({'male': 'male', 'female': 'female'})\n",
        "dataset['smoker'] = dataset['smoker'].map({'no': 0, 'yes': 1})\n",
        "dataset['region'] = dataset['region'].map({'northwest': 'northwest', 'northeast': 'northeast', 'southwest' : 'southwest', 'southeast' : 'southeast' })\n",
        "dataset = pd.get_dummies(dataset, columns = ['sex'], prefix = '', prefix_sep = '')\n",
        "dataset = pd.get_dummies(dataset, columns = ['region'], prefix = '', prefix_sep = '')\n",
        "dataset.tail()"
      ],
      "execution_count": 12,
      "outputs": [
        {
          "output_type": "execute_result",
          "data": {
            "text/html": [
              "<div>\n",
              "<style scoped>\n",
              "    .dataframe tbody tr th:only-of-type {\n",
              "        vertical-align: middle;\n",
              "    }\n",
              "\n",
              "    .dataframe tbody tr th {\n",
              "        vertical-align: top;\n",
              "    }\n",
              "\n",
              "    .dataframe thead th {\n",
              "        text-align: right;\n",
              "    }\n",
              "</style>\n",
              "<table border=\"1\" class=\"dataframe\">\n",
              "  <thead>\n",
              "    <tr style=\"text-align: right;\">\n",
              "      <th></th>\n",
              "      <th>age</th>\n",
              "      <th>bmi</th>\n",
              "      <th>children</th>\n",
              "      <th>smoker</th>\n",
              "      <th>expenses</th>\n",
              "      <th>female</th>\n",
              "      <th>male</th>\n",
              "      <th>northeast</th>\n",
              "      <th>northwest</th>\n",
              "      <th>southeast</th>\n",
              "      <th>southwest</th>\n",
              "    </tr>\n",
              "  </thead>\n",
              "  <tbody>\n",
              "    <tr>\n",
              "      <th>1333</th>\n",
              "      <td>50</td>\n",
              "      <td>31.0</td>\n",
              "      <td>3</td>\n",
              "      <td>0</td>\n",
              "      <td>10600.55</td>\n",
              "      <td>0</td>\n",
              "      <td>1</td>\n",
              "      <td>0</td>\n",
              "      <td>1</td>\n",
              "      <td>0</td>\n",
              "      <td>0</td>\n",
              "    </tr>\n",
              "    <tr>\n",
              "      <th>1334</th>\n",
              "      <td>18</td>\n",
              "      <td>31.9</td>\n",
              "      <td>0</td>\n",
              "      <td>0</td>\n",
              "      <td>2205.98</td>\n",
              "      <td>1</td>\n",
              "      <td>0</td>\n",
              "      <td>1</td>\n",
              "      <td>0</td>\n",
              "      <td>0</td>\n",
              "      <td>0</td>\n",
              "    </tr>\n",
              "    <tr>\n",
              "      <th>1335</th>\n",
              "      <td>18</td>\n",
              "      <td>36.9</td>\n",
              "      <td>0</td>\n",
              "      <td>0</td>\n",
              "      <td>1629.83</td>\n",
              "      <td>1</td>\n",
              "      <td>0</td>\n",
              "      <td>0</td>\n",
              "      <td>0</td>\n",
              "      <td>1</td>\n",
              "      <td>0</td>\n",
              "    </tr>\n",
              "    <tr>\n",
              "      <th>1336</th>\n",
              "      <td>21</td>\n",
              "      <td>25.8</td>\n",
              "      <td>0</td>\n",
              "      <td>0</td>\n",
              "      <td>2007.95</td>\n",
              "      <td>1</td>\n",
              "      <td>0</td>\n",
              "      <td>0</td>\n",
              "      <td>0</td>\n",
              "      <td>0</td>\n",
              "      <td>1</td>\n",
              "    </tr>\n",
              "    <tr>\n",
              "      <th>1337</th>\n",
              "      <td>61</td>\n",
              "      <td>29.1</td>\n",
              "      <td>0</td>\n",
              "      <td>1</td>\n",
              "      <td>29141.36</td>\n",
              "      <td>1</td>\n",
              "      <td>0</td>\n",
              "      <td>0</td>\n",
              "      <td>1</td>\n",
              "      <td>0</td>\n",
              "      <td>0</td>\n",
              "    </tr>\n",
              "  </tbody>\n",
              "</table>\n",
              "</div>"
            ],
            "text/plain": [
              "      age   bmi  children  smoker  ...  northeast  northwest  southeast  southwest\n",
              "1333   50  31.0         3       0  ...          0          1          0          0\n",
              "1334   18  31.9         0       0  ...          1          0          0          0\n",
              "1335   18  36.9         0       0  ...          0          0          1          0\n",
              "1336   21  25.8         0       0  ...          0          0          0          1\n",
              "1337   61  29.1         0       1  ...          0          1          0          0\n",
              "\n",
              "[5 rows x 11 columns]"
            ]
          },
          "metadata": {
            "tags": []
          },
          "execution_count": 12
        }
      ]
    },
    {
      "cell_type": "code",
      "metadata": {
        "id": "LcopvQh3X-kX",
        "colab": {
          "base_uri": "https://localhost:8080/"
        },
        "outputId": "a5bd6ebc-a525-4be4-8262-f7901b0a08ba"
      },
      "source": [
        "dataset_copy = dataset.copy()\n",
        "#splitting into testing and training\n",
        "train_dataset = dataset_copy.sample(frac = 0.80, random_state = 0)\n",
        "test_dataset = dataset_copy.drop(train_dataset.index)\n",
        "print(train_dataset)"
      ],
      "execution_count": 13,
      "outputs": [
        {
          "output_type": "stream",
          "text": [
            "      age   bmi  children  smoker  ...  northeast  northwest  southeast  southwest\n",
            "578    52  30.2         1       0  ...          0          0          0          1\n",
            "610    47  29.4         1       0  ...          0          0          1          0\n",
            "569    48  40.6         2       1  ...          0          1          0          0\n",
            "1034   61  38.4         0       0  ...          0          1          0          0\n",
            "198    51  18.1         0       0  ...          0          1          0          0\n",
            "...   ...   ...       ...     ...  ...        ...        ...        ...        ...\n",
            "584    19  20.7         0       0  ...          0          0          0          1\n",
            "147    51  37.7         1       0  ...          0          0          1          0\n",
            "160    42  26.6         0       1  ...          0          1          0          0\n",
            "750    37  26.4         0       1  ...          0          0          1          0\n",
            "859    57  28.1         0       0  ...          0          0          0          1\n",
            "\n",
            "[1070 rows x 11 columns]\n"
          ],
          "name": "stdout"
        }
      ]
    },
    {
      "cell_type": "code",
      "metadata": {
        "colab": {
          "base_uri": "https://localhost:8080/"
        },
        "id": "015sW24nMzaU",
        "outputId": "53ce71f6-c33a-4113-f6b3-d5e0b08adeef"
      },
      "source": [
        "#extracting labels\n",
        "train_labels = train_dataset.pop('expenses')\n",
        "test_labels = test_dataset.pop('expenses')\n",
        "print(train_labels)"
      ],
      "execution_count": 14,
      "outputs": [
        {
          "output_type": "stream",
          "text": [
            "578      9724.53\n",
            "610      8547.69\n",
            "569     45702.02\n",
            "1034    12950.07\n",
            "198      9644.25\n",
            "          ...   \n",
            "584      1242.82\n",
            "147      9877.61\n",
            "160     21348.71\n",
            "750     19539.24\n",
            "859     10965.45\n",
            "Name: expenses, Length: 1070, dtype: float64\n"
          ],
          "name": "stdout"
        }
      ]
    },
    {
      "cell_type": "code",
      "metadata": {
        "colab": {
          "base_uri": "https://localhost:8080/"
        },
        "id": "rLPzoruNtMhA",
        "outputId": "7657b2b9-fdfe-4449-d50b-34b77f5d6584"
      },
      "source": [
        "#Normalization\n",
        "normalizer = layers.experimental.preprocessing.Normalization(axis=-1)\n",
        "normalizer.adapt(np.array(train_dataset))\n",
        "print(normalizer.mean.numpy())"
      ],
      "execution_count": 15,
      "outputs": [
        {
          "output_type": "stream",
          "text": [
            "[39.036446   30.737288    1.093458    0.19906542  0.50186914  0.49813083\n",
            "  0.24859811  0.23551399  0.28130844  0.23457943]\n"
          ],
          "name": "stdout"
        }
      ]
    },
    {
      "cell_type": "code",
      "metadata": {
        "colab": {
          "base_uri": "https://localhost:8080/"
        },
        "id": "IPGPXht4y4Kl",
        "outputId": "b5d02c24-1820-4b0f-983d-b9aeb6c6bf7f"
      },
      "source": [
        "def build_and_compile_model(norm):\n",
        "  model = keras.Sequential([\n",
        "      norm,\n",
        "      layers.Dense(64, activation='relu'),\n",
        "      layers.Dropout(0.2),\n",
        "      layers.Dense(128, activation='relu'),\n",
        "      layers.Dropout(0.25),\n",
        "      layers.Dense(512, activation='relu'),\n",
        "      layers.Dense(1)\n",
        "  ])\n",
        "\n",
        "  model.compile(loss='mean_absolute_error', metrics = [tf.keras.metrics.MeanAbsoluteError(), ['mse']],\n",
        "                optimizer=tf.keras.optimizers.Adam(0.001))\n",
        "  return model\n",
        "\n",
        "model = build_and_compile_model(normalizer)\n",
        "model.summary()\n",
        "\n",
        "history = model.fit(\n",
        "    train_dataset, train_labels,\n",
        "    validation_split=0.2,\n",
        "    verbose=1, epochs=100)"
      ],
      "execution_count": 52,
      "outputs": [
        {
          "output_type": "stream",
          "text": [
            "Model: \"sequential_17\"\n",
            "_________________________________________________________________\n",
            "Layer (type)                 Output Shape              Param #   \n",
            "=================================================================\n",
            "normalization (Normalization (None, 10)                21        \n",
            "_________________________________________________________________\n",
            "dense_45 (Dense)             (None, 64)                704       \n",
            "_________________________________________________________________\n",
            "dropout_9 (Dropout)          (None, 64)                0         \n",
            "_________________________________________________________________\n",
            "dense_46 (Dense)             (None, 128)               8320      \n",
            "_________________________________________________________________\n",
            "dropout_10 (Dropout)         (None, 128)               0         \n",
            "_________________________________________________________________\n",
            "dense_47 (Dense)             (None, 512)               66048     \n",
            "_________________________________________________________________\n",
            "dense_48 (Dense)             (None, 1)                 513       \n",
            "=================================================================\n",
            "Total params: 75,606\n",
            "Trainable params: 75,585\n",
            "Non-trainable params: 21\n",
            "_________________________________________________________________\n",
            "Epoch 1/100\n",
            "27/27 [==============================] - 1s 10ms/step - loss: 12704.3428 - mean_absolute_error: 12704.3428 - mse: 301691776.0000 - val_loss: 14397.5342 - val_mean_absolute_error: 14397.5342 - val_mse: 362439680.0000\n",
            "Epoch 2/100\n",
            "27/27 [==============================] - 0s 4ms/step - loss: 12582.7695 - mean_absolute_error: 12582.7695 - mse: 298563168.0000 - val_loss: 14096.2939 - val_mean_absolute_error: 14096.2939 - val_mse: 353842048.0000\n",
            "Epoch 3/100\n",
            "27/27 [==============================] - 0s 4ms/step - loss: 11866.1670 - mean_absolute_error: 11866.1670 - mse: 280816832.0000 - val_loss: 12745.2461 - val_mean_absolute_error: 12745.2461 - val_mse: 316911744.0000\n",
            "Epoch 4/100\n",
            "27/27 [==============================] - 0s 4ms/step - loss: 9950.9629 - mean_absolute_error: 9950.9629 - mse: 230943440.0000 - val_loss: 10033.2314 - val_mean_absolute_error: 10033.2314 - val_mse: 235016128.0000\n",
            "Epoch 5/100\n",
            "27/27 [==============================] - 0s 4ms/step - loss: 7791.4580 - mean_absolute_error: 7791.4580 - mse: 159113024.0000 - val_loss: 7840.0737 - val_mean_absolute_error: 7840.0737 - val_mse: 158005024.0000\n",
            "Epoch 6/100\n",
            "27/27 [==============================] - 0s 4ms/step - loss: 6842.5645 - mean_absolute_error: 6842.5645 - mse: 120750376.0000 - val_loss: 6853.8730 - val_mean_absolute_error: 6853.8730 - val_mse: 132736096.0000\n",
            "Epoch 7/100\n",
            "27/27 [==============================] - 0s 5ms/step - loss: 6029.5078 - mean_absolute_error: 6029.5078 - mse: 100393440.0000 - val_loss: 5874.1406 - val_mean_absolute_error: 5874.1406 - val_mse: 105502824.0000\n",
            "Epoch 8/100\n",
            "27/27 [==============================] - 0s 5ms/step - loss: 5252.5156 - mean_absolute_error: 5252.5156 - mse: 80561064.0000 - val_loss: 5043.9917 - val_mean_absolute_error: 5043.9917 - val_mse: 89524776.0000\n",
            "Epoch 9/100\n",
            "27/27 [==============================] - 0s 4ms/step - loss: 4565.0293 - mean_absolute_error: 4565.0293 - mse: 67495200.0000 - val_loss: 4403.8027 - val_mean_absolute_error: 4403.8027 - val_mse: 74868608.0000\n",
            "Epoch 10/100\n",
            "27/27 [==============================] - 0s 4ms/step - loss: 4060.1477 - mean_absolute_error: 4060.1477 - mse: 53746800.0000 - val_loss: 4046.3264 - val_mean_absolute_error: 4046.3264 - val_mse: 58594308.0000\n",
            "Epoch 11/100\n",
            "27/27 [==============================] - 0s 4ms/step - loss: 3751.9373 - mean_absolute_error: 3751.9373 - mse: 45804792.0000 - val_loss: 3901.4062 - val_mean_absolute_error: 3901.4062 - val_mse: 53461992.0000\n",
            "Epoch 12/100\n",
            "27/27 [==============================] - 0s 4ms/step - loss: 3597.2292 - mean_absolute_error: 3597.2292 - mse: 41430520.0000 - val_loss: 3851.5508 - val_mean_absolute_error: 3851.5508 - val_mse: 45267696.0000\n",
            "Epoch 13/100\n",
            "27/27 [==============================] - 0s 4ms/step - loss: 3550.9329 - mean_absolute_error: 3550.9329 - mse: 37934644.0000 - val_loss: 3715.8235 - val_mean_absolute_error: 3715.8235 - val_mse: 43131072.0000\n",
            "Epoch 14/100\n",
            "27/27 [==============================] - 0s 4ms/step - loss: 3360.2092 - mean_absolute_error: 3360.2092 - mse: 34189416.0000 - val_loss: 3633.6907 - val_mean_absolute_error: 3633.6907 - val_mse: 39985488.0000\n",
            "Epoch 15/100\n",
            "27/27 [==============================] - 0s 4ms/step - loss: 3399.6641 - mean_absolute_error: 3399.6641 - mse: 34976348.0000 - val_loss: 3533.1741 - val_mean_absolute_error: 3533.1741 - val_mse: 38370388.0000\n",
            "Epoch 16/100\n",
            "27/27 [==============================] - 0s 4ms/step - loss: 3335.1375 - mean_absolute_error: 3335.1375 - mse: 34134556.0000 - val_loss: 3448.8943 - val_mean_absolute_error: 3448.8943 - val_mse: 37382428.0000\n",
            "Epoch 17/100\n",
            "27/27 [==============================] - 0s 4ms/step - loss: 3276.4141 - mean_absolute_error: 3276.4141 - mse: 33415224.0000 - val_loss: 3382.4421 - val_mean_absolute_error: 3382.4421 - val_mse: 37232856.0000\n",
            "Epoch 18/100\n",
            "27/27 [==============================] - 0s 4ms/step - loss: 3118.7620 - mean_absolute_error: 3118.7620 - mse: 32692806.0000 - val_loss: 3343.4883 - val_mean_absolute_error: 3343.4883 - val_mse: 36804088.0000\n",
            "Epoch 19/100\n",
            "27/27 [==============================] - 0s 4ms/step - loss: 3259.9995 - mean_absolute_error: 3259.9995 - mse: 33739000.0000 - val_loss: 3293.5967 - val_mean_absolute_error: 3293.5967 - val_mse: 35780976.0000\n",
            "Epoch 20/100\n",
            "27/27 [==============================] - 0s 4ms/step - loss: 3185.6235 - mean_absolute_error: 3185.6235 - mse: 33030066.0000 - val_loss: 3227.6873 - val_mean_absolute_error: 3227.6873 - val_mse: 34969320.0000\n",
            "Epoch 21/100\n",
            "27/27 [==============================] - 0s 4ms/step - loss: 3200.8706 - mean_absolute_error: 3200.8706 - mse: 34048432.0000 - val_loss: 3200.0496 - val_mean_absolute_error: 3200.0496 - val_mse: 34883928.0000\n",
            "Epoch 22/100\n",
            "27/27 [==============================] - 0s 4ms/step - loss: 3187.4790 - mean_absolute_error: 3187.4790 - mse: 33849068.0000 - val_loss: 3178.5063 - val_mean_absolute_error: 3178.5063 - val_mse: 34413740.0000\n",
            "Epoch 23/100\n",
            "27/27 [==============================] - 0s 4ms/step - loss: 3185.7781 - mean_absolute_error: 3185.7781 - mse: 32988794.0000 - val_loss: 3147.0347 - val_mean_absolute_error: 3147.0347 - val_mse: 33732380.0000\n",
            "Epoch 24/100\n",
            "27/27 [==============================] - 0s 4ms/step - loss: 3065.1680 - mean_absolute_error: 3065.1680 - mse: 30516554.0000 - val_loss: 3112.7498 - val_mean_absolute_error: 3112.7498 - val_mse: 33274524.0000\n",
            "Epoch 25/100\n",
            "27/27 [==============================] - 0s 4ms/step - loss: 3098.8582 - mean_absolute_error: 3098.8582 - mse: 32489536.0000 - val_loss: 3107.5776 - val_mean_absolute_error: 3107.5776 - val_mse: 33283282.0000\n",
            "Epoch 26/100\n",
            "27/27 [==============================] - 0s 5ms/step - loss: 3077.6602 - mean_absolute_error: 3077.6602 - mse: 31827278.0000 - val_loss: 3039.0203 - val_mean_absolute_error: 3039.0203 - val_mse: 32179884.0000\n",
            "Epoch 27/100\n",
            "27/27 [==============================] - 0s 5ms/step - loss: 2909.4268 - mean_absolute_error: 2909.4268 - mse: 29677910.0000 - val_loss: 3008.2339 - val_mean_absolute_error: 3008.2339 - val_mse: 31739454.0000\n",
            "Epoch 28/100\n",
            "27/27 [==============================] - 0s 4ms/step - loss: 3036.2456 - mean_absolute_error: 3036.2456 - mse: 30684012.0000 - val_loss: 2993.2141 - val_mean_absolute_error: 2993.2141 - val_mse: 31785828.0000\n",
            "Epoch 29/100\n",
            "27/27 [==============================] - 0s 4ms/step - loss: 2937.5122 - mean_absolute_error: 2937.5122 - mse: 30076940.0000 - val_loss: 2932.5562 - val_mean_absolute_error: 2932.5562 - val_mse: 31021642.0000\n",
            "Epoch 30/100\n",
            "27/27 [==============================] - 0s 4ms/step - loss: 2921.8469 - mean_absolute_error: 2921.8469 - mse: 29495618.0000 - val_loss: 3019.3040 - val_mean_absolute_error: 3019.3040 - val_mse: 31608980.0000\n",
            "Epoch 31/100\n",
            "27/27 [==============================] - 0s 4ms/step - loss: 2885.3904 - mean_absolute_error: 2885.3904 - mse: 29441028.0000 - val_loss: 2906.8259 - val_mean_absolute_error: 2906.8259 - val_mse: 30343290.0000\n",
            "Epoch 32/100\n",
            "27/27 [==============================] - 0s 5ms/step - loss: 2927.2903 - mean_absolute_error: 2927.2903 - mse: 29497944.0000 - val_loss: 2833.2617 - val_mean_absolute_error: 2833.2617 - val_mse: 29784040.0000\n",
            "Epoch 33/100\n",
            "27/27 [==============================] - 0s 4ms/step - loss: 2854.0762 - mean_absolute_error: 2854.0762 - mse: 28122488.0000 - val_loss: 2844.7815 - val_mean_absolute_error: 2844.7815 - val_mse: 29875080.0000\n",
            "Epoch 34/100\n",
            "27/27 [==============================] - 0s 4ms/step - loss: 2927.4126 - mean_absolute_error: 2927.4126 - mse: 29075002.0000 - val_loss: 2818.2576 - val_mean_absolute_error: 2818.2576 - val_mse: 28951496.0000\n",
            "Epoch 35/100\n",
            "27/27 [==============================] - 0s 4ms/step - loss: 2831.8496 - mean_absolute_error: 2831.8496 - mse: 28026476.0000 - val_loss: 2753.7244 - val_mean_absolute_error: 2753.7244 - val_mse: 28563756.0000\n",
            "Epoch 36/100\n",
            "27/27 [==============================] - 0s 4ms/step - loss: 2791.6155 - mean_absolute_error: 2791.6155 - mse: 27699078.0000 - val_loss: 2712.2483 - val_mean_absolute_error: 2712.2483 - val_mse: 28292548.0000\n",
            "Epoch 37/100\n",
            "27/27 [==============================] - 0s 4ms/step - loss: 2808.6038 - mean_absolute_error: 2808.6038 - mse: 27435552.0000 - val_loss: 2713.5701 - val_mean_absolute_error: 2713.5701 - val_mse: 27978552.0000\n",
            "Epoch 38/100\n",
            "27/27 [==============================] - 0s 4ms/step - loss: 2807.5374 - mean_absolute_error: 2807.5374 - mse: 28148502.0000 - val_loss: 2720.9097 - val_mean_absolute_error: 2720.9097 - val_mse: 27911030.0000\n",
            "Epoch 39/100\n",
            "27/27 [==============================] - 0s 4ms/step - loss: 2730.3733 - mean_absolute_error: 2730.3733 - mse: 26447868.0000 - val_loss: 2664.1255 - val_mean_absolute_error: 2664.1255 - val_mse: 27525146.0000\n",
            "Epoch 40/100\n",
            "27/27 [==============================] - 0s 4ms/step - loss: 2729.6765 - mean_absolute_error: 2729.6765 - mse: 26726676.0000 - val_loss: 2596.3972 - val_mean_absolute_error: 2596.3972 - val_mse: 26616842.0000\n",
            "Epoch 41/100\n",
            "27/27 [==============================] - 0s 4ms/step - loss: 2824.9951 - mean_absolute_error: 2824.9951 - mse: 28257598.0000 - val_loss: 2606.5081 - val_mean_absolute_error: 2606.5081 - val_mse: 26773130.0000\n",
            "Epoch 42/100\n",
            "27/27 [==============================] - 0s 5ms/step - loss: 2757.2266 - mean_absolute_error: 2757.2266 - mse: 26812802.0000 - val_loss: 2601.6519 - val_mean_absolute_error: 2601.6519 - val_mse: 26852508.0000\n",
            "Epoch 43/100\n",
            "27/27 [==============================] - 0s 4ms/step - loss: 2683.0933 - mean_absolute_error: 2683.0933 - mse: 26678544.0000 - val_loss: 2538.6870 - val_mean_absolute_error: 2538.6870 - val_mse: 26410980.0000\n",
            "Epoch 44/100\n",
            "27/27 [==============================] - 0s 4ms/step - loss: 2754.6360 - mean_absolute_error: 2754.6360 - mse: 27085068.0000 - val_loss: 2619.8596 - val_mean_absolute_error: 2619.8596 - val_mse: 27107454.0000\n",
            "Epoch 45/100\n",
            "27/27 [==============================] - 0s 4ms/step - loss: 2740.6077 - mean_absolute_error: 2740.6077 - mse: 26280512.0000 - val_loss: 2509.0356 - val_mean_absolute_error: 2509.0356 - val_mse: 26052132.0000\n",
            "Epoch 46/100\n",
            "27/27 [==============================] - 0s 4ms/step - loss: 2792.6970 - mean_absolute_error: 2792.6970 - mse: 27901502.0000 - val_loss: 2480.7844 - val_mean_absolute_error: 2480.7844 - val_mse: 25814930.0000\n",
            "Epoch 47/100\n",
            "27/27 [==============================] - 0s 4ms/step - loss: 2601.2429 - mean_absolute_error: 2601.2429 - mse: 25054514.0000 - val_loss: 2483.7935 - val_mean_absolute_error: 2483.7935 - val_mse: 25846532.0000\n",
            "Epoch 48/100\n",
            "27/27 [==============================] - 0s 4ms/step - loss: 2749.7754 - mean_absolute_error: 2749.7754 - mse: 27452914.0000 - val_loss: 2508.1426 - val_mean_absolute_error: 2508.1426 - val_mse: 25780300.0000\n",
            "Epoch 49/100\n",
            "27/27 [==============================] - 0s 4ms/step - loss: 2607.9612 - mean_absolute_error: 2607.9612 - mse: 26358624.0000 - val_loss: 2506.8687 - val_mean_absolute_error: 2506.8689 - val_mse: 25657920.0000\n",
            "Epoch 50/100\n",
            "27/27 [==============================] - 0s 5ms/step - loss: 2578.3408 - mean_absolute_error: 2578.3408 - mse: 24933130.0000 - val_loss: 2429.0759 - val_mean_absolute_error: 2429.0759 - val_mse: 24651556.0000\n",
            "Epoch 51/100\n",
            "27/27 [==============================] - 0s 4ms/step - loss: 2586.4221 - mean_absolute_error: 2586.4221 - mse: 25376690.0000 - val_loss: 2414.3030 - val_mean_absolute_error: 2414.3030 - val_mse: 25113994.0000\n",
            "Epoch 52/100\n",
            "27/27 [==============================] - 0s 4ms/step - loss: 2612.6934 - mean_absolute_error: 2612.6934 - mse: 25781212.0000 - val_loss: 2466.0947 - val_mean_absolute_error: 2466.0947 - val_mse: 24621772.0000\n",
            "Epoch 53/100\n",
            "27/27 [==============================] - 0s 4ms/step - loss: 2645.5830 - mean_absolute_error: 2645.5830 - mse: 25802360.0000 - val_loss: 2511.5183 - val_mean_absolute_error: 2511.5183 - val_mse: 26152568.0000\n",
            "Epoch 54/100\n",
            "27/27 [==============================] - 0s 4ms/step - loss: 2608.6104 - mean_absolute_error: 2608.6104 - mse: 25281914.0000 - val_loss: 2425.5537 - val_mean_absolute_error: 2425.5537 - val_mse: 24027430.0000\n",
            "Epoch 55/100\n",
            "27/27 [==============================] - 0s 4ms/step - loss: 2633.8962 - mean_absolute_error: 2633.8962 - mse: 25720578.0000 - val_loss: 2409.2563 - val_mean_absolute_error: 2409.2563 - val_mse: 23953582.0000\n",
            "Epoch 56/100\n",
            "27/27 [==============================] - 0s 4ms/step - loss: 2603.9419 - mean_absolute_error: 2603.9419 - mse: 25144330.0000 - val_loss: 2439.9094 - val_mean_absolute_error: 2439.9094 - val_mse: 24760796.0000\n",
            "Epoch 57/100\n",
            "27/27 [==============================] - 0s 4ms/step - loss: 2560.4792 - mean_absolute_error: 2560.4792 - mse: 24651536.0000 - val_loss: 2337.8657 - val_mean_absolute_error: 2337.8657 - val_mse: 24103048.0000\n",
            "Epoch 58/100\n",
            "27/27 [==============================] - 0s 4ms/step - loss: 2631.7539 - mean_absolute_error: 2631.7539 - mse: 25950550.0000 - val_loss: 2316.8984 - val_mean_absolute_error: 2316.8984 - val_mse: 24069072.0000\n",
            "Epoch 59/100\n",
            "27/27 [==============================] - 0s 4ms/step - loss: 2528.9968 - mean_absolute_error: 2528.9968 - mse: 24825954.0000 - val_loss: 2355.4341 - val_mean_absolute_error: 2355.4341 - val_mse: 24601560.0000\n",
            "Epoch 60/100\n",
            "27/27 [==============================] - 0s 4ms/step - loss: 2552.7517 - mean_absolute_error: 2552.7517 - mse: 25069506.0000 - val_loss: 2317.5706 - val_mean_absolute_error: 2317.5706 - val_mse: 24434708.0000\n",
            "Epoch 61/100\n",
            "27/27 [==============================] - 0s 4ms/step - loss: 2635.8674 - mean_absolute_error: 2635.8674 - mse: 26270380.0000 - val_loss: 2347.9314 - val_mean_absolute_error: 2347.9314 - val_mse: 24751612.0000\n",
            "Epoch 62/100\n",
            "27/27 [==============================] - 0s 5ms/step - loss: 2514.6104 - mean_absolute_error: 2514.6104 - mse: 24523358.0000 - val_loss: 2303.2617 - val_mean_absolute_error: 2303.2617 - val_mse: 24438616.0000\n",
            "Epoch 63/100\n",
            "27/27 [==============================] - 0s 4ms/step - loss: 2598.0442 - mean_absolute_error: 2598.0442 - mse: 26525552.0000 - val_loss: 2308.0718 - val_mean_absolute_error: 2308.0718 - val_mse: 23313218.0000\n",
            "Epoch 64/100\n",
            "27/27 [==============================] - 0s 4ms/step - loss: 2667.5591 - mean_absolute_error: 2667.5591 - mse: 26353614.0000 - val_loss: 2285.0859 - val_mean_absolute_error: 2285.0859 - val_mse: 23815768.0000\n",
            "Epoch 65/100\n",
            "27/27 [==============================] - 0s 4ms/step - loss: 2657.2302 - mean_absolute_error: 2657.2302 - mse: 26713498.0000 - val_loss: 2302.1990 - val_mean_absolute_error: 2302.1990 - val_mse: 24078770.0000\n",
            "Epoch 66/100\n",
            "27/27 [==============================] - 0s 4ms/step - loss: 2478.5493 - mean_absolute_error: 2478.5493 - mse: 24102946.0000 - val_loss: 2280.8276 - val_mean_absolute_error: 2280.8276 - val_mse: 23901208.0000\n",
            "Epoch 67/100\n",
            "27/27 [==============================] - 0s 4ms/step - loss: 2593.7073 - mean_absolute_error: 2593.7073 - mse: 25806348.0000 - val_loss: 2287.2375 - val_mean_absolute_error: 2287.2375 - val_mse: 23433866.0000\n",
            "Epoch 68/100\n",
            "27/27 [==============================] - 0s 4ms/step - loss: 2546.6311 - mean_absolute_error: 2546.6311 - mse: 24756210.0000 - val_loss: 2312.4402 - val_mean_absolute_error: 2312.4402 - val_mse: 23468400.0000\n",
            "Epoch 69/100\n",
            "27/27 [==============================] - 0s 4ms/step - loss: 2472.3379 - mean_absolute_error: 2472.3379 - mse: 24326426.0000 - val_loss: 2312.0613 - val_mean_absolute_error: 2312.0613 - val_mse: 23299494.0000\n",
            "Epoch 70/100\n",
            "27/27 [==============================] - 0s 4ms/step - loss: 2572.1455 - mean_absolute_error: 2572.1455 - mse: 25709176.0000 - val_loss: 2247.6582 - val_mean_absolute_error: 2247.6582 - val_mse: 23377006.0000\n",
            "Epoch 71/100\n",
            "27/27 [==============================] - 0s 4ms/step - loss: 2422.8428 - mean_absolute_error: 2422.8428 - mse: 23333000.0000 - val_loss: 2229.9827 - val_mean_absolute_error: 2229.9827 - val_mse: 23008178.0000\n",
            "Epoch 72/100\n",
            "27/27 [==============================] - 0s 4ms/step - loss: 2530.5786 - mean_absolute_error: 2530.5786 - mse: 25250916.0000 - val_loss: 2238.3125 - val_mean_absolute_error: 2238.3125 - val_mse: 23003542.0000\n",
            "Epoch 73/100\n",
            "27/27 [==============================] - 0s 4ms/step - loss: 2568.7048 - mean_absolute_error: 2568.7048 - mse: 25395332.0000 - val_loss: 2211.8789 - val_mean_absolute_error: 2211.8789 - val_mse: 23445792.0000\n",
            "Epoch 74/100\n",
            "27/27 [==============================] - 0s 4ms/step - loss: 2520.4307 - mean_absolute_error: 2520.4307 - mse: 25052006.0000 - val_loss: 2267.5061 - val_mean_absolute_error: 2267.5061 - val_mse: 23677692.0000\n",
            "Epoch 75/100\n",
            "27/27 [==============================] - 0s 4ms/step - loss: 2569.9446 - mean_absolute_error: 2569.9446 - mse: 26139550.0000 - val_loss: 2217.8374 - val_mean_absolute_error: 2217.8374 - val_mse: 22653216.0000\n",
            "Epoch 76/100\n",
            "27/27 [==============================] - 0s 5ms/step - loss: 2517.4314 - mean_absolute_error: 2517.4314 - mse: 25430286.0000 - val_loss: 2208.4351 - val_mean_absolute_error: 2208.4351 - val_mse: 22958982.0000\n",
            "Epoch 77/100\n",
            "27/27 [==============================] - 0s 4ms/step - loss: 2539.6042 - mean_absolute_error: 2539.6042 - mse: 25044512.0000 - val_loss: 2251.0537 - val_mean_absolute_error: 2251.0537 - val_mse: 23177528.0000\n",
            "Epoch 78/100\n",
            "27/27 [==============================] - 0s 4ms/step - loss: 2532.7588 - mean_absolute_error: 2532.7588 - mse: 25037384.0000 - val_loss: 2188.0566 - val_mean_absolute_error: 2188.0566 - val_mse: 22557048.0000\n",
            "Epoch 79/100\n",
            "27/27 [==============================] - 0s 4ms/step - loss: 2486.4778 - mean_absolute_error: 2486.4778 - mse: 25784744.0000 - val_loss: 2207.3835 - val_mean_absolute_error: 2207.3835 - val_mse: 23166132.0000\n",
            "Epoch 80/100\n",
            "27/27 [==============================] - 0s 4ms/step - loss: 2433.6787 - mean_absolute_error: 2433.6787 - mse: 23528090.0000 - val_loss: 2223.4387 - val_mean_absolute_error: 2223.4387 - val_mse: 22563258.0000\n",
            "Epoch 81/100\n",
            "27/27 [==============================] - 0s 4ms/step - loss: 2488.8975 - mean_absolute_error: 2488.8975 - mse: 24906086.0000 - val_loss: 2191.9919 - val_mean_absolute_error: 2191.9919 - val_mse: 22990150.0000\n",
            "Epoch 82/100\n",
            "27/27 [==============================] - 0s 4ms/step - loss: 2548.1289 - mean_absolute_error: 2548.1289 - mse: 24920890.0000 - val_loss: 2214.1338 - val_mean_absolute_error: 2214.1338 - val_mse: 22137332.0000\n",
            "Epoch 83/100\n",
            "27/27 [==============================] - 0s 4ms/step - loss: 2478.9351 - mean_absolute_error: 2478.9351 - mse: 24262350.0000 - val_loss: 2200.1863 - val_mean_absolute_error: 2200.1863 - val_mse: 22912428.0000\n",
            "Epoch 84/100\n",
            "27/27 [==============================] - 0s 5ms/step - loss: 2573.7095 - mean_absolute_error: 2573.7095 - mse: 25294170.0000 - val_loss: 2194.0220 - val_mean_absolute_error: 2194.0220 - val_mse: 22314900.0000\n",
            "Epoch 85/100\n",
            "27/27 [==============================] - 0s 4ms/step - loss: 2522.9062 - mean_absolute_error: 2522.9062 - mse: 25259924.0000 - val_loss: 2184.5515 - val_mean_absolute_error: 2184.5515 - val_mse: 22655176.0000\n",
            "Epoch 86/100\n",
            "27/27 [==============================] - 0s 4ms/step - loss: 2437.3381 - mean_absolute_error: 2437.3381 - mse: 24541028.0000 - val_loss: 2156.0874 - val_mean_absolute_error: 2156.0874 - val_mse: 22256184.0000\n",
            "Epoch 87/100\n",
            "27/27 [==============================] - 0s 4ms/step - loss: 2501.5652 - mean_absolute_error: 2501.5652 - mse: 25121148.0000 - val_loss: 2133.2708 - val_mean_absolute_error: 2133.2708 - val_mse: 22693998.0000\n",
            "Epoch 88/100\n",
            "27/27 [==============================] - 0s 4ms/step - loss: 2511.2139 - mean_absolute_error: 2511.2139 - mse: 25395558.0000 - val_loss: 2164.9783 - val_mean_absolute_error: 2164.9783 - val_mse: 22420302.0000\n",
            "Epoch 89/100\n",
            "27/27 [==============================] - 0s 4ms/step - loss: 2502.4756 - mean_absolute_error: 2502.4756 - mse: 25120674.0000 - val_loss: 2147.2449 - val_mean_absolute_error: 2147.2449 - val_mse: 22342168.0000\n",
            "Epoch 90/100\n",
            "27/27 [==============================] - 0s 4ms/step - loss: 2465.6772 - mean_absolute_error: 2465.6772 - mse: 24512428.0000 - val_loss: 2192.0737 - val_mean_absolute_error: 2192.0737 - val_mse: 22862054.0000\n",
            "Epoch 91/100\n",
            "27/27 [==============================] - 0s 4ms/step - loss: 2441.3435 - mean_absolute_error: 2441.3435 - mse: 24249358.0000 - val_loss: 2172.2329 - val_mean_absolute_error: 2172.2329 - val_mse: 22261984.0000\n",
            "Epoch 92/100\n",
            "27/27 [==============================] - 0s 5ms/step - loss: 2446.9067 - mean_absolute_error: 2446.9067 - mse: 23890196.0000 - val_loss: 2100.3069 - val_mean_absolute_error: 2100.3069 - val_mse: 22256178.0000\n",
            "Epoch 93/100\n",
            "27/27 [==============================] - 0s 4ms/step - loss: 2391.2971 - mean_absolute_error: 2391.2971 - mse: 24213030.0000 - val_loss: 2173.9827 - val_mean_absolute_error: 2173.9827 - val_mse: 22741250.0000\n",
            "Epoch 94/100\n",
            "27/27 [==============================] - 0s 4ms/step - loss: 2556.8137 - mean_absolute_error: 2556.8137 - mse: 25946840.0000 - val_loss: 2127.7332 - val_mean_absolute_error: 2127.7332 - val_mse: 22902416.0000\n",
            "Epoch 95/100\n",
            "27/27 [==============================] - 0s 5ms/step - loss: 2530.9668 - mean_absolute_error: 2530.9668 - mse: 25007168.0000 - val_loss: 2118.8955 - val_mean_absolute_error: 2118.8955 - val_mse: 22053216.0000\n",
            "Epoch 96/100\n",
            "27/27 [==============================] - 0s 4ms/step - loss: 2429.3352 - mean_absolute_error: 2429.3352 - mse: 24004912.0000 - val_loss: 2110.8022 - val_mean_absolute_error: 2110.8022 - val_mse: 22708842.0000\n",
            "Epoch 97/100\n",
            "27/27 [==============================] - 0s 4ms/step - loss: 2377.3994 - mean_absolute_error: 2377.3994 - mse: 24044828.0000 - val_loss: 2143.7610 - val_mean_absolute_error: 2143.7610 - val_mse: 21800038.0000\n",
            "Epoch 98/100\n",
            "27/27 [==============================] - 0s 4ms/step - loss: 2541.2302 - mean_absolute_error: 2541.2302 - mse: 25316032.0000 - val_loss: 2126.6150 - val_mean_absolute_error: 2126.6150 - val_mse: 22489318.0000\n",
            "Epoch 99/100\n",
            "27/27 [==============================] - 0s 4ms/step - loss: 2439.5972 - mean_absolute_error: 2439.5972 - mse: 23818498.0000 - val_loss: 2138.8298 - val_mean_absolute_error: 2138.8298 - val_mse: 21941148.0000\n",
            "Epoch 100/100\n",
            "27/27 [==============================] - 0s 4ms/step - loss: 2450.3562 - mean_absolute_error: 2450.3562 - mse: 24116408.0000 - val_loss: 2092.4092 - val_mean_absolute_error: 2092.4092 - val_mse: 22294794.0000\n"
          ],
          "name": "stdout"
        }
      ]
    },
    {
      "cell_type": "code",
      "metadata": {
        "id": "Xe7RXH3N3CWU",
        "colab": {
          "base_uri": "https://localhost:8080/",
          "height": 334
        },
        "outputId": "ce01eae1-ff15-4247-ee79-6d4008184f51"
      },
      "source": [
        "# RUN THIS CELL TO TEST YOUR MODEL. DO NOT MODIFY CONTENTS.\n",
        "# Test model by checking how well the model generalizes using the test set.\n",
        "loss, mae, mse = model.evaluate(test_dataset, test_labels, verose=2)\n",
        "\n",
        "print(\"Testing set Mean Abs Error: {:5.2f} expenses\".format(mae))\n",
        "\n",
        "if mae < 3500:\n",
        "  print(\"You passed the challenge. Great job!\")\n",
        "else:\n",
        "  print(\"The Mean Abs Error must be less than 3500. Keep trying.\")\n",
        "\n",
        "# Plot predictions.\n",
        "test_predictions = model.predict(test_dataset).flatten()\n",
        "\n",
        "a = plt.axes(aspect='equal')\n",
        "plt.scatter(test_labels, test_predictions)\n",
        "plt.xlabel('True values (expenses)')\n",
        "plt.ylabel('Predictions (expenses)')\n",
        "lims = [0, 50000]\n",
        "plt.xlim(lims)\n",
        "plt.ylim(lims)\n",
        "_ = plt.plot(lims,lims)\n"
      ],
      "execution_count": 54,
      "outputs": [
        {
          "output_type": "stream",
          "text": [
            "9/9 - 0s - loss: 2734.4700 - mean_absolute_error: 2734.4700 - mse: 36003080.0000\n",
            "Testing set Mean Abs Error: 2734.47 expenses\n",
            "You passed the challenge. Great job!\n"
          ],
          "name": "stdout"
        },
        {
          "output_type": "display_data",
          "data": {
            "image/png": "[encoded data removed]",
            "text/plain": [
              "<Figure size 432x288 with 1 Axes>"
            ]
          },
          "metadata": {
            "tags": [],
            "needs_background": "light"
          }
        }
      ]
    }
  ]
}